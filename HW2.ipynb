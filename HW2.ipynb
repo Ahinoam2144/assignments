{
 "cells": [
  {
   "cell_type": "markdown",
   "id": "fa259156-8f33-4844-bc18-cee1a494a5ed",
   "metadata": {},
   "source": [
    "## Assignment 2"
   ]
  },
  {
   "cell_type": "markdown",
   "id": "f2856d1e-637c-4ec3-891b-2976c5d05adf",
   "metadata": {},
   "source": [
    "#part 1, 1"
   ]
  },
  {
   "cell_type": "code",
   "execution_count": 5,
   "id": "60581cd2-dc83-4f23-98df-4543b2aa1b97",
   "metadata": {},
   "outputs": [],
   "source": [
    "l= (\"Mercury\", \"Venus\", \"Earth\", \"Mars\" , \"Jupiter\" , \"Saturn\" , \"Uranus\" , \"Neptune\")"
   ]
  },
  {
   "cell_type": "markdown",
   "id": "4c0956c9-6e4e-4a64-86f0-145f8239a58a",
   "metadata": {},
   "source": [
    "#part 1, 2"
   ]
  },
  {
   "cell_type": "code",
   "execution_count": 6,
   "id": "f0af7a76",
   "metadata": {},
   "outputs": [
    {
     "name": "stdout",
     "output_type": "stream",
     "text": [
      "8\n"
     ]
    }
   ],
   "source": [
    "print(len(l))"
   ]
  },
  {
   "cell_type": "markdown",
   "id": "1c919f94-45a7-4e99-afe9-656e6fc1b5e0",
   "metadata": {},
   "source": [
    "#part 1, 3"
   ]
  },
  {
   "cell_type": "code",
   "execution_count": 7,
   "id": "d0b28e47-60f1-48e1-b90a-f98f94fed130",
   "metadata": {},
   "outputs": [],
   "source": [
    "#displaying rocky planets"
   ]
  },
  {
   "cell_type": "code",
   "execution_count": 8,
   "id": "b6054fdf-5a1b-40c5-a0dd-3fbc7fede4b1",
   "metadata": {},
   "outputs": [
    {
     "name": "stdout",
     "output_type": "stream",
     "text": [
      "('Mercury', 'Venus', 'Earth', 'Mars')\n"
     ]
    }
   ],
   "source": [
    "print(l[0:4])"
   ]
  },
  {
   "cell_type": "markdown",
   "id": "1cf4c17b-b569-4ae6-8d8c-2f6029e5112a",
   "metadata": {},
   "source": [
    "#part 1, 4"
   ]
  },
  {
   "cell_type": "code",
   "execution_count": 9,
   "id": "04e0c33c-91a1-4036-99ff-acc1455db0e5",
   "metadata": {},
   "outputs": [],
   "source": [
    "# Iterate through the list"
   ]
  },
  {
   "cell_type": "code",
   "execution_count": 10,
   "id": "6010b080-264c-4e68-b380-8471c069256a",
   "metadata": {},
   "outputs": [
    {
     "name": "stdout",
     "output_type": "stream",
     "text": [
      "Venus\n",
      "Mars\n",
      "Uranus\n"
     ]
    }
   ],
   "source": [
    "for planet in l:\n",
    "    if planet.endswith('s'):\n",
    "        print(planet)"
   ]
  },
  {
   "cell_type": "markdown",
   "id": "83969aee-77c7-45aa-b9dc-d8b93cf19d1e",
   "metadata": {},
   "source": [
    "#part 2, 1"
   ]
  },
  {
   "cell_type": "code",
   "execution_count": 11,
   "id": "84f592e7-e936-4254-8d7f-40179e4daf87",
   "metadata": {},
   "outputs": [],
   "source": [
    "# kelvin to celsius"
   ]
  },
  {
   "cell_type": "code",
   "execution_count": 23,
   "id": "de6c8887-7e15-49d7-b3f2-7b2680c08ee5",
   "metadata": {},
   "outputs": [],
   "source": [
    "def kelvin_to_celsius(temp):\n",
    "    return temp-273.15"
   ]
  },
  {
   "cell_type": "code",
   "execution_count": 24,
   "id": "c923b98e-2565-4a0e-b6c6-0499cc5b77a6",
   "metadata": {},
   "outputs": [
    {
     "data": {
      "text/plain": [
       "526.85"
      ]
     },
     "execution_count": 24,
     "metadata": {},
     "output_type": "execute_result"
    }
   ],
   "source": [
    "kelvin_to_celsius(800)"
   ]
  },
  {
   "cell_type": "code",
   "execution_count": 22,
   "id": "49f91ffa-d685-407f-b447-80c1e6ce9dd4",
   "metadata": {},
   "outputs": [],
   "source": [
    "# celsius to kelvin"
   ]
  },
  {
   "cell_type": "code",
   "execution_count": 26,
   "id": "65447406-968d-42dc-9fb8-a81813c3d5d5",
   "metadata": {},
   "outputs": [],
   "source": [
    "def celsius_to_kelvin(temp):\n",
    "    return temp+273.15"
   ]
  },
  {
   "cell_type": "code",
   "execution_count": 27,
   "id": "f242fb5d-6d72-4905-b5fc-8c48bb617b50",
   "metadata": {},
   "outputs": [
    {
     "data": {
      "text/plain": [
       "353.15"
      ]
     },
     "execution_count": 27,
     "metadata": {},
     "output_type": "execute_result"
    }
   ],
   "source": [
    "celsius_to_kelvin(80)"
   ]
  },
  {
   "cell_type": "markdown",
   "id": "5045f3f5-85ac-4d9e-963a-f81095243271",
   "metadata": {},
   "source": [
    "#part 2, 2"
   ]
  },
  {
   "cell_type": "code",
   "execution_count": 16,
   "id": "ba44f92d-57a6-40d2-bee0-c7420b5605fd",
   "metadata": {},
   "outputs": [],
   "source": [
    "# temperature to fahrenheit"
   ]
  },
  {
   "cell_type": "code",
   "execution_count": 31,
   "id": "dd008a6f-70a6-4423-a83c-e8c8da8dc78a",
   "metadata": {},
   "outputs": [],
   "source": [
    "def temp_to_fahrenheit (temp, kelvin= False):\n",
    "    if kelvin:\n",
    "        return (temp-273.15)*(9/5)+32\n",
    "    else:\n",
    "        return (temp*(9/5)+32)"
   ]
  },
  {
   "cell_type": "markdown",
   "id": "602562f2-206d-48c5-8002-e961802bfbbc",
   "metadata": {},
   "source": [
    "#part 2, 3"
   ]
  },
  {
   "cell_type": "code",
   "execution_count": null,
   "id": "b00a4a6c-f72b-46a0-a153-c0147ae836bc",
   "metadata": {},
   "outputs": [],
   "source": [
    "# my example for temperature 900 kelvin"
   ]
  },
  {
   "cell_type": "code",
   "execution_count": 36,
   "id": "68bba0d9-1533-4339-9f95-96fc2477ab82",
   "metadata": {},
   "outputs": [
    {
     "data": {
      "text/plain": [
       "1160.3300000000002"
      ]
     },
     "execution_count": 36,
     "metadata": {},
     "output_type": "execute_result"
    }
   ],
   "source": [
    "temp_to_fahrenheit(900, kelvin=True)"
   ]
  },
  {
   "cell_type": "code",
   "execution_count": null,
   "id": "7972f5ef-637d-4b48-8e63-0594f1818499",
   "metadata": {},
   "outputs": [],
   "source": [
    "# my example for temperature 10 celsius"
   ]
  },
  {
   "cell_type": "code",
   "execution_count": 38,
   "id": "9c27b110-b6c5-45fc-8762-28b403c0e82b",
   "metadata": {},
   "outputs": [
    {
     "data": {
      "text/plain": [
       "50.0"
      ]
     },
     "execution_count": 38,
     "metadata": {},
     "output_type": "execute_result"
    }
   ],
   "source": [
    "temp_to_fahrenheit(10, kelvin=False)"
   ]
  },
  {
   "cell_type": "markdown",
   "id": "98adfaa0-d306-46a7-8e79-468124ae8fdb",
   "metadata": {},
   "source": [
    "#part 2, 4"
   ]
  },
  {
   "cell_type": "code",
   "execution_count": null,
   "id": "337ceef1-f607-45a6-a6a9-c11f98348e63",
   "metadata": {},
   "outputs": [],
   "source": [
    "# converts fahrenheit to kelvin or celcius"
   ]
  },
  {
   "cell_type": "code",
   "execution_count": 40,
   "id": "d15458ba-eb3d-4cd8-89da-a3b493950d38",
   "metadata": {},
   "outputs": [],
   "source": [
    "def convert_fahrenheit(temp, kelvin= False):\n",
    "    if kelvin:\n",
    "        return (temp-32)*(5/9)+273.15\n",
    "    else: \n",
    "        return (temp-32)*(5/9)"
   ]
  },
  {
   "cell_type": "code",
   "execution_count": 41,
   "id": "e84c0b82-3171-401d-a096-ceaf8a52fa45",
   "metadata": {},
   "outputs": [
    {
     "data": {
      "text/plain": [
       "32.22222222222222"
      ]
     },
     "execution_count": 41,
     "metadata": {},
     "output_type": "execute_result"
    }
   ],
   "source": [
    "convert_fahrenheit(90)"
   ]
  },
  {
   "cell_type": "code",
   "execution_count": 43,
   "id": "d9e92883-9834-46a4-b336-fa7e4131ae7f",
   "metadata": {},
   "outputs": [
    {
     "data": {
      "text/plain": [
       "310.92777777777775"
      ]
     },
     "execution_count": 43,
     "metadata": {},
     "output_type": "execute_result"
    }
   ],
   "source": [
    "convert_fahrenheit(100, kelvin=True)"
   ]
  },
  {
   "cell_type": "markdown",
   "id": "e129dd82-5c8c-4294-b6ea-a5002a84831f",
   "metadata": {},
   "source": [
    "#part 2, 5"
   ]
  },
  {
   "cell_type": "code",
   "execution_count": null,
   "id": "385b2c99-5ede-4c71-972b-f55954aeb627",
   "metadata": {},
   "outputs": [],
   "source": [
    "# A function that takes feet and inches and returns height in meters"
   ]
  },
  {
   "cell_type": "code",
   "execution_count": 44,
   "id": "29e66512-bcb2-4755-8877-8d7e20b7b80a",
   "metadata": {},
   "outputs": [],
   "source": [
    "def height_to_meters(height, feet= False):\n",
    "    if feet:\n",
    "        return height*0.3048\n",
    "    else:\n",
    "        return height*0.0254"
   ]
  },
  {
   "cell_type": "code",
   "execution_count": 45,
   "id": "b2453c81-4743-4659-915d-89fbdc28f490",
   "metadata": {},
   "outputs": [
    {
     "data": {
      "text/plain": [
       "2.54"
      ]
     },
     "execution_count": 45,
     "metadata": {},
     "output_type": "execute_result"
    }
   ],
   "source": [
    "height_to_meters(100)"
   ]
  },
  {
   "cell_type": "code",
   "execution_count": 46,
   "id": "21335b0c-ed32-4859-92d7-5816984b7a24",
   "metadata": {},
   "outputs": [
    {
     "data": {
      "text/plain": [
       "30.48"
      ]
     },
     "execution_count": 46,
     "metadata": {},
     "output_type": "execute_result"
    }
   ],
   "source": [
    "height_to_meters(100, feet= True)"
   ]
  },
  {
   "cell_type": "markdown",
   "id": "099ff71c-3ae4-426a-abce-0642a7d77087",
   "metadata": {},
   "source": [
    "#part 2, 6"
   ]
  },
  {
   "cell_type": "code",
   "execution_count": null,
   "id": "c3d27538-6f65-4e3f-bb43-c5d5964724ce",
   "metadata": {},
   "outputs": [],
   "source": [
    "# convert meters to feet or inches"
   ]
  },
  {
   "cell_type": "code",
   "execution_count": 47,
   "id": "77a85154-b1a9-4fd7-9e9f-c90294dc05b8",
   "metadata": {},
   "outputs": [],
   "source": [
    "def convert_meters(height, feet= False):\n",
    "    if feet:\n",
    "        return height*3.28084\n",
    "    else:\n",
    "        return height*39.3700787402"
   ]
  },
  {
   "cell_type": "code",
   "execution_count": 48,
   "id": "a71a8997-a338-4ba5-8899-346df5292fac",
   "metadata": {},
   "outputs": [
    {
     "data": {
      "text/plain": [
       "78.7401574804"
      ]
     },
     "execution_count": 48,
     "metadata": {},
     "output_type": "execute_result"
    }
   ],
   "source": [
    "convert_meters(2)"
   ]
  },
  {
   "cell_type": "code",
   "execution_count": 49,
   "id": "b3edd3b9-ce36-4cbc-b498-24cca098a015",
   "metadata": {},
   "outputs": [
    {
     "data": {
      "text/plain": [
       "13.12336"
      ]
     },
     "execution_count": 49,
     "metadata": {},
     "output_type": "execute_result"
    }
   ],
   "source": [
    "convert_meters(4, feet=True)"
   ]
  },
  {
   "cell_type": "markdown",
   "id": "815a0d42-db01-41a2-99d7-8777a2c8c838",
   "metadata": {},
   "source": [
    "#part 2, 7"
   ]
  },
  {
   "cell_type": "code",
   "execution_count": 50,
   "id": "32c8a1b5-11a6-44b5-b80d-98c16600b796",
   "metadata": {},
   "outputs": [
    {
     "data": {
      "text/plain": [
       "2.00000000000216"
      ]
     },
     "execution_count": 50,
     "metadata": {},
     "output_type": "execute_result"
    }
   ],
   "source": [
    "height_to_meters(convert_meters(2))"
   ]
  },
  {
   "cell_type": "code",
   "execution_count": 51,
   "id": "5deac317-8055-4943-ba86-e32fe6b06630",
   "metadata": {},
   "outputs": [
    {
     "data": {
      "text/plain": [
       "100.000000000108"
      ]
     },
     "execution_count": 51,
     "metadata": {},
     "output_type": "execute_result"
    }
   ],
   "source": [
    "convert_meters(height_to_meters(100))"
   ]
  },
  {
   "cell_type": "code",
   "execution_count": 53,
   "id": "a98aff5e-1e3b-459b-b077-a579e6de17c8",
   "metadata": {},
   "outputs": [
    {
     "data": {
      "text/plain": [
       "4.000000128"
      ]
     },
     "execution_count": 53,
     "metadata": {},
     "output_type": "execute_result"
    }
   ],
   "source": [
    "height_to_meters(convert_meters(4, feet=True), feet=True)"
   ]
  },
  {
   "cell_type": "code",
   "execution_count": null,
   "id": "e2a5b79f-dbb3-4fd1-8ef0-e31a1c9579d4",
   "metadata": {},
   "outputs": [],
   "source": []
  }
 ],
 "metadata": {
  "kernelspec": {
   "display_name": "Python 3 (ipykernel)",
   "language": "python",
   "name": "python3"
  },
  "language_info": {
   "codemirror_mode": {
    "name": "ipython",
    "version": 3
   },
   "file_extension": ".py",
   "mimetype": "text/x-python",
   "name": "python",
   "nbconvert_exporter": "python",
   "pygments_lexer": "ipython3",
   "version": "3.11.7"
  }
 },
 "nbformat": 4,
 "nbformat_minor": 5
}
